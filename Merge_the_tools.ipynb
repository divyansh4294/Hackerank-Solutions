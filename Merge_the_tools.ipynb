{
 "cells": [
  {
   "cell_type": "code",
   "execution_count": null,
   "metadata": {},
   "outputs": [],
   "source": [
    "# Find the distinct characters in string in the same order they arrived\n",
    "def res(l):\n",
    "    u=\"\"\n",
    "    for f in l:\n",
    "        if f not in u:\n",
    "            u += f\n",
    "    return u\n",
    "\n",
    "\n",
    "def merge_the_tools(string, k):\n",
    "    # divide the input string into desired length of size k \n",
    "    ls =[]\n",
    "    num_subsegments = int(len(string) / k)\n",
    "    for index in range(num_subsegments):\n",
    "        t = string[index * k : (index + 1) * k]\n",
    "        ls.append(t)\n",
    "    # Subsequence string having distinct characters\n",
    "    for i in ls:\n",
    "        x = res(i)\n",
    "        print(x)\n",
    "\n",
    "if __name__ == '__main__':\n",
    "    string, k = input(), int(input())\n",
    "    merge_the_tools(string, k)"
   ]
  }
 ],
 "metadata": {
  "kernelspec": {
   "display_name": "Python 3",
   "language": "python",
   "name": "python3"
  },
  "language_info": {
   "codemirror_mode": {
    "name": "ipython",
    "version": 3
   },
   "file_extension": ".py",
   "mimetype": "text/x-python",
   "name": "python",
   "nbconvert_exporter": "python",
   "pygments_lexer": "ipython3",
   "version": "3.7.4"
  }
 },
 "nbformat": 4,
 "nbformat_minor": 2
}
